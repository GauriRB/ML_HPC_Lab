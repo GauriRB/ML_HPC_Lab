{
  "nbformat": 4,
  "nbformat_minor": 0,
  "metadata": {
    "colab": {
      "provenance": [],
      "authorship_tag": "ABX9TyO+W2dK/2Zl3huy0QV4Get2",
      "include_colab_link": true
    },
    "kernelspec": {
      "name": "python3",
      "display_name": "Python 3"
    },
    "language_info": {
      "name": "python"
    }
  },
  "cells": [
    {
      "cell_type": "markdown",
      "metadata": {
        "id": "view-in-github",
        "colab_type": "text"
      },
      "source": [
        "<a href=\"https://colab.research.google.com/github/GauriRB/ML_HPC_Lab/blob/main/MatrixVectorMul.ipynb\" target=\"_parent\"><img src=\"https://colab.research.google.com/assets/colab-badge.svg\" alt=\"Open In Colab\"/></a>"
      ]
    },
    {
      "cell_type": "markdown",
      "source": [
        "Matrix Vector Multiplication\n"
      ],
      "metadata": {
        "id": "DZxR5TbNiiBX"
      }
    },
    {
      "cell_type": "code",
      "source": [
        "import random\n",
        "import numpy as np\n",
        "import time\n",
        "M = 700\n",
        "# Multiply Vector and matrix\n",
        "A = np.random.randint(0, M, size=(M, M))\n",
        "a = np.random.randint(0, M, size=M)\n",
        "d = np.zeros(M, dtype=int)\n",
        "# serial\n",
        "start = time.time()\n",
        "for i in range(M):\n",
        "    sum = 0\n",
        "    for j in range(M):\n",
        "        sum += A[i][j] * a[j]\n",
        "    d[i] = sum\n",
        "duration = time.time() - start\n",
        "print(\"Serial Multiply Vector and matrix:\", duration)\n",
        "\n",
        "# parallel\n",
        "start = time.time()\n",
        "d = np.dot(A, a)\n",
        "duration = time.time() - start\n",
        "print(\"Parallel Multiply Vector and matrix:\", duration)\n"
      ],
      "metadata": {
        "colab": {
          "base_uri": "https://localhost:8080/"
        },
        "id": "Q_Fm-zB5ins8",
        "outputId": "3593cd03-e49f-4a5b-c2e6-6f25d0b88771"
      },
      "execution_count": 1,
      "outputs": [
        {
          "output_type": "stream",
          "name": "stdout",
          "text": [
            "Serial Multiply Vector and matrix: 0.4304769039154053\n",
            "Parallel Multiply Vector and matrix: 0.0017650127410888672\n"
          ]
        }
      ]
    },
    {
      "cell_type": "code",
      "source": [],
      "metadata": {
        "id": "ZN_wDhXniomZ"
      },
      "execution_count": null,
      "outputs": []
    }
  ]
}
