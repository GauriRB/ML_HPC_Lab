{
  "nbformat": 4,
  "nbformat_minor": 0,
  "metadata": {
    "colab": {
      "provenance": [],
      "authorship_tag": "ABX9TyMvK5uBCa70nqrrLKcAXs27",
      "include_colab_link": true
    },
    "kernelspec": {
      "name": "python3",
      "display_name": "Python 3"
    },
    "language_info": {
      "name": "python"
    }
  },
  "cells": [
    {
      "cell_type": "markdown",
      "metadata": {
        "id": "view-in-github",
        "colab_type": "text"
      },
      "source": [
        "<a href=\"https://colab.research.google.com/github/GauriRB/ML_HPC_Lab/blob/main/BubbleSort.ipynb\" target=\"_parent\"><img src=\"https://colab.research.google.com/assets/colab-badge.svg\" alt=\"Open In Colab\"/></a>"
      ]
    },
    {
      "cell_type": "code",
      "execution_count": 1,
      "metadata": {
        "id": "6OfYWuF2j842",
        "outputId": "a964b6ba-04ac-4599-ec3b-5e67dfb9aec2",
        "colab": {
          "base_uri": "https://localhost:8080/"
        }
      },
      "outputs": [
        {
          "output_type": "stream",
          "name": "stdout",
          "text": [
            "Serial: 0:00:09.090830\n",
            "Parallel: 0:00:04.893580\n"
          ]
        }
      ],
      "source": [
        "import random\n",
        "import time\n",
        "from datetime import datetime\n",
        "\n",
        "def bubble_sort(arr):\n",
        "    n = len(arr)\n",
        "    for i in range(n):\n",
        "        for j in range(n-1):\n",
        "            if arr[j] > arr[j+1]:\n",
        "                arr[j], arr[j+1] = arr[j+1], arr[j]\n",
        "\n",
        "def main():\n",
        "    a = [random.randint(0, 10000) for _ in range(10000)]\n",
        "    start = datetime.now()\n",
        "    bubble_sort(a)\n",
        "    end = datetime.now()\n",
        "    duration = end - start\n",
        "    print(\"Serial:\", duration)\n",
        "    a = [random.randint(0, 10000) for _ in range(10000)]\n",
        "\n",
        "    start = datetime.now()\n",
        "    for i in range(len(a)):\n",
        "        first = i % 2\n",
        "        for j in range(first, len(a)-1, 2):\n",
        "            if a[j] > a[j+1]:\n",
        "                a[j], a[j+1] = a[j+1], a[j]\n",
        "    end = datetime.now()\n",
        "    duration = end - start\n",
        "    print(\"Parallel:\", duration)\n",
        "\n",
        "if __name__ == \"__main__\":\n",
        "    main()\n"
      ]
    },
    {
      "cell_type": "code",
      "source": [],
      "metadata": {
        "id": "hc6XnOOaj97U"
      },
      "execution_count": null,
      "outputs": []
    }
  ]
}