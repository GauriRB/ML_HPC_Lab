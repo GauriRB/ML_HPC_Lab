{
  "nbformat": 4,
  "nbformat_minor": 0,
  "metadata": {
    "colab": {
      "provenance": [],
      "authorship_tag": "ABX9TyMSE+Mt+1yDJ4b6yMo0hsA/",
      "include_colab_link": true
    },
    "kernelspec": {
      "name": "python3",
      "display_name": "Python 3"
    },
    "language_info": {
      "name": "python"
    }
  },
  "cells": [
    {
      "cell_type": "markdown",
      "metadata": {
        "id": "view-in-github",
        "colab_type": "text"
      },
      "source": [
        "<a href=\"https://colab.research.google.com/github/GauriRB/ML_HPC_Lab/blob/main/MergeSort.ipynb\" target=\"_parent\"><img src=\"https://colab.research.google.com/assets/colab-badge.svg\" alt=\"Open In Colab\"/></a>"
      ]
    },
    {
      "cell_type": "code",
      "execution_count": 1,
      "metadata": {
        "colab": {
          "base_uri": "https://localhost:8080/"
        },
        "id": "c-m2UtvrkRu2",
        "outputId": "057b5db2-9308-43b0-a9e7-3911618b1e77"
      },
      "outputs": [
        {
          "output_type": "stream",
          "name": "stdout",
          "text": [
            "Sorted array is:\n",
            "1\n",
            "2\n",
            "3\n",
            "4\n",
            "5\n",
            "15\n",
            "19\n",
            "26\n",
            "27\n",
            "36\n",
            "38\n",
            "44\n",
            "46\n",
            "47\n",
            "48\n",
            "50\n",
            "Execution time: 0.012082099914550781 seconds\n"
          ]
        }
      ],
      "source": [
        "import concurrent.futures\n",
        "import time\n",
        "def merge(a, i1, j1, i2, j2):\n",
        "    temp = []\n",
        "    i, j = i1, i2\n",
        "    while i <= j1 and j <= j2:\n",
        "        temp.append(a[i] if a[i] < a[j] else a[j])\n",
        "        i, j = (i + 1, j) if a[i] < a[j] else (i, j + 1)\n",
        "    temp.extend(a[i: j1 + 1])\n",
        "    temp.extend(a[j: j2 + 1])\n",
        "    a[i1: j2 + 1] = temp\n",
        "def mergesort(a, i, j):\n",
        "    if i < j:\n",
        "        mid = (i + j) // 2\n",
        "        with concurrent.futures.ThreadPoolExecutor() as executor:\n",
        "            future1 = executor.submit(mergesort, a, i, mid)\n",
        "            future2 = executor.submit(mergesort, a, mid + 1, j)\n",
        "            future1.result()\n",
        "            future2.result()\n",
        "        merge(a, i, mid, mid + 1, j)\n",
        "if __name__ == \"__main__\":\n",
        "    a = [3,44,38,5,47,15,36,26,27,2,46,4,19,1,50,48]\n",
        "    start_p=time.time()\n",
        "    mergesort(a, 0, len(a) - 1)\n",
        "    end_p=time.time()\n",
        "    print(\"Sorted array is:\")\n",
        "    for element in a:\n",
        "        print(element)\n",
        "    print(\"Execution time:\", end_p-start_p, \"seconds\")"
      ]
    },
    {
      "cell_type": "code",
      "source": [],
      "metadata": {
        "id": "ytYsBljNkSn8"
      },
      "execution_count": null,
      "outputs": []
    }
  ]
}