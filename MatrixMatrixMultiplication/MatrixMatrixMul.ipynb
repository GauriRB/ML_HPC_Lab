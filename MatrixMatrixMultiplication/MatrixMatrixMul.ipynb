{
  "nbformat": 4,
  "nbformat_minor": 0,
  "metadata": {
    "colab": {
      "provenance": [],
      "authorship_tag": "ABX9TyM0ebWKhBlq3g4LUTXt25r0",
      "include_colab_link": true
    },
    "kernelspec": {
      "name": "python3",
      "display_name": "Python 3"
    },
    "language_info": {
      "name": "python"
    }
  },
  "cells": [
    {
      "cell_type": "markdown",
      "metadata": {
        "id": "view-in-github",
        "colab_type": "text"
      },
      "source": [
        "<a href=\"https://colab.research.google.com/github/GauriRB/ML_HPC_Lab/blob/main/MatrixMatrixMul.ipynb\" target=\"_parent\"><img src=\"https://colab.research.google.com/assets/colab-badge.svg\" alt=\"Open In Colab\"/></a>"
      ]
    },
    {
      "cell_type": "markdown",
      "source": [
        "Matrix Matrix Multiplication\n"
      ],
      "metadata": {
        "id": "OHjjtyVIiArE"
      }
    },
    {
      "cell_type": "code",
      "source": [
        "import random\n",
        "import numpy as np\n",
        "import time\n",
        "\n",
        "N = 100\n",
        "A = np.random.randint(0, N, size=(N, N))\n",
        "B = np.random.randint(0, N, size=(N, N))\n",
        "C = np.zeros((N, N), dtype=int)\n",
        "\n",
        "start = time.time()\n",
        "for i in range(N):\n",
        "    for j in range(N):\n",
        "        C[i][j] = 0\n",
        "        for k in range(N):\n",
        "            C[i][j] += A[i][k] * B[k][j]\n",
        "duration = time.time() - start\n",
        "print(\"Serial Multiply Matrix and matrix:\", duration)\n",
        "\n",
        "start = time.time()\n",
        "C = np.dot(A, B)\n",
        "duration = time.time() - start\n",
        "print(\"Parallel Multiply Matrix and matrix:\", duration)\n"
      ],
      "metadata": {
        "colab": {
          "base_uri": "https://localhost:8080/"
        },
        "id": "AemyMN5riHOI",
        "outputId": "4a034cf1-e702-4c95-a20c-455180b36dd3"
      },
      "execution_count": 2,
      "outputs": [
        {
          "output_type": "stream",
          "name": "stdout",
          "text": [
            "Serial Multiply Matrix and matrix: 1.058168888092041\n",
            "Parallel Multiply Matrix and matrix: 0.0016977787017822266\n"
          ]
        }
      ]
    },
    {
      "cell_type": "code",
      "source": [],
      "metadata": {
        "id": "UDBokPdPiNrU"
      },
      "execution_count": null,
      "outputs": []
    }
  ]
}
