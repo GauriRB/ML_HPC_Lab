{
  "nbformat": 4,
  "nbformat_minor": 0,
  "metadata": {
    "colab": {
      "provenance": [],
      "authorship_tag": "ABX9TyMmF3bmNzY5qnrhFuqOfEaj",
      "include_colab_link": true
    },
    "kernelspec": {
      "name": "python3",
      "display_name": "Python 3"
    },
    "language_info": {
      "name": "python"
    }
  },
  "cells": [
    {
      "cell_type": "markdown",
      "metadata": {
        "id": "view-in-github",
        "colab_type": "text"
      },
      "source": [
        "<a href=\"https://colab.research.google.com/github/GauriRB/ML_HPC_Lab/blob/main/VectorAddition.ipynb\" target=\"_parent\"><img src=\"https://colab.research.google.com/assets/colab-badge.svg\" alt=\"Open In Colab\"/></a>"
      ]
    },
    {
      "cell_type": "markdown",
      "source": [
        "Vector addition\n"
      ],
      "metadata": {
        "id": "QgVOXkEYjPPZ"
      }
    },
    {
      "cell_type": "code",
      "source": [
        "import random\n",
        "import numpy as np\n",
        "import time\n",
        "\n",
        "N = 10000000\n",
        "\n",
        "# Addition of two vectors\n",
        "a = [random.randint(0, N) for _ in range(N)]\n",
        "b = [random.randint(0, N) for _ in range(N)]\n",
        "c = np.zeros(N, dtype=int)\n",
        "\n",
        "start = time.time()\n",
        "for i in range(N):\n",
        "    c[i] = b[i] + a[i]\n",
        "duration = time.time() - start\n",
        "print(\"Serial vector addition:\", duration)\n",
        "\n",
        "start = time.time()\n",
        "c = np.add(a, b)\n",
        "duration = time.time() - start\n",
        "print(\"Parallel vector addition:\", duration)\n",
        "\n",
        "print(\"***********************************\")"
      ],
      "metadata": {
        "colab": {
          "base_uri": "https://localhost:8080/"
        },
        "id": "XlDGdyB9jSe1",
        "outputId": "ab7e687f-5d8f-4726-b599-7c49182f0aaa"
      },
      "execution_count": 2,
      "outputs": [
        {
          "output_type": "stream",
          "name": "stdout",
          "text": [
            "Serial vector addition: 2.4423348903656006\n",
            "Parallel vector addition: 1.506572961807251\n",
            "***********************************\n"
          ]
        }
      ]
    },
    {
      "cell_type": "code",
      "source": [],
      "metadata": {
        "id": "tDkRt2TnjXCm"
      },
      "execution_count": null,
      "outputs": []
    }
  ]
}
